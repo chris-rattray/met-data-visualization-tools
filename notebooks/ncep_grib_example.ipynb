{
 "cells": [
  {
   "cell_type": "markdown",
   "id": "b6a5f9bf",
   "metadata": {},
   "source": [
    "# Plotting reflectivity from NCEP grib2 data"
   ]
  },
  {
   "cell_type": "code",
   "execution_count": null,
   "id": "04be1cdb",
   "metadata": {},
   "outputs": [],
   "source": [
    "import numpy as np\n",
    "import xarray as xr\n",
    "import pygrib\n",
    "from pyproj import CRS\n",
    "from pathlib import Path\n",
    "import datetime as dt\n",
    "from scipy.ndimage import gaussian_filter\n",
    "import metpy.calc as mpcalc\n",
    "from metpy.units import units\n",
    "import cartopy.crs as ccrs\n",
    "import cartopy.feature as cfeature\n",
    "import matplotlib as mpl\n",
    "import matplotlib.pyplot as plt\n",
    "from matplotlib import colors\n",
    "from matplotlib.colors import LinearSegmentedColormap\n",
    "plt.rcParams['savefig.facecolor']='white'"
   ]
  },
  {
   "cell_type": "code",
   "execution_count": null,
   "id": "620fb6eb",
   "metadata": {},
   "outputs": [],
   "source": [
    "model_name = 'arw2'\n",
    "model_dir = Path(f'../data/models/{model_name}/')\n",
    "save_dir = f'plots/{model_name}/'"
   ]
  },
  {
   "cell_type": "markdown",
   "id": "895435b2",
   "metadata": {},
   "source": [
    "Now that we know our model name we can get available initialization dates and times. My data is archived with folders for each day, with the path to the files being: model/YYYYmmdd/file.grib2."
   ]
  },
  {
   "cell_type": "code",
   "execution_count": null,
   "id": "5304eae7",
   "metadata": {},
   "outputs": [],
   "source": [
    "# loop through files and display available times here\n",
    "init_dates = [dt.datetime.strptime(d.name,'%Y%m%d') \\\n",
    "              for d in list(model_dir.iterdir())]\n",
    "print(f'available initialization dates:')\n",
    "if len(init_dates) > 0:\n",
    "    for date in init_dates:\n",
    "        init_times = set([f.name.split(\".\")[1].replace('z',\"\").replace('t',\"\") \\\n",
    "                          for f in list((model_dir/f'{date:%Y%m%d}').glob(\"*.grib2\"))])\n",
    "        for t in init_times:\n",
    "            print(f'{date:%Y %m %d} {t}z')\n",
    "else:\n",
    "    print('no data found')"
   ]
  },
  {
   "cell_type": "markdown",
   "id": "52a35fa4",
   "metadata": {},
   "source": [
    "We can now pick from these available dates by assigning the year, month day and hour variables. Here I pick the 2022/07/19 initialization."
   ]
  },
  {
   "cell_type": "code",
   "execution_count": null,
   "id": "1b5cd42c",
   "metadata": {},
   "outputs": [],
   "source": [
    "year = 2022\n",
    "month = 7\n",
    "day = 19\n",
    "init_hour = 12\n",
    "forecast_step = 12"
   ]
  },
  {
   "cell_type": "markdown",
   "id": "1655e6fa",
   "metadata": {},
   "source": [
    "Now we provide the boundaries to plot"
   ]
  },
  {
   "cell_type": "code",
   "execution_count": null,
   "id": "5dad3580",
   "metadata": {},
   "outputs": [],
   "source": [
    "# Using latitude in decimal degrees N\n",
    "north = 58 \n",
    "south = 48 \n",
    "# Using longitude in decimal degrees W\n",
    "east = -110 \n",
    "west = -118\n",
    "# Need this later for plotting\n",
    "bounds = dict(north=north,south=south,east=east,west=west)"
   ]
  },
  {
   "cell_type": "markdown",
   "id": "395aaead",
   "metadata": {},
   "source": [
    "We need to provide keyword arguments to xarray for parsing grib2 files. These arguments will not necessarily work for data coming from a different center (such as CMC or ECMWF)"
   ]
  },
  {
   "cell_type": "code",
   "execution_count": null,
   "id": "4fc6be61",
   "metadata": {},
   "outputs": [],
   "source": [
    "# shortname for reflectivity:\n",
    "varname = 'refd' \n",
    "# \"levtype\" specifies type of level (isobaric, isentropic, ect...)\n",
    "levtype = 'heightAboveGround' \n",
    "# 1000 m above ground level:\n",
    "level = 1000 \n",
    "# kwargs to pass to xarray for parsing:\n",
    "grib_kwargs = {'shortName' : varname, 'typeOfLevel' : levtype,'level' : level} "
   ]
  },
  {
   "cell_type": "markdown",
   "id": "c7f9ead8",
   "metadata": {},
   "source": [
    "Now we are ready to load the grib2 file using xarray. "
   ]
  },
  {
   "cell_type": "code",
   "execution_count": null,
   "id": "9dc5508c",
   "metadata": {},
   "outputs": [],
   "source": [
    "folder = model_dir / f\"{year}{month}{day}/\"\n",
    "file = [str(f) for f in list(folder.glob('*grib2')) if \\\n",
    "        f't{init_hour}z'in f.name and f'f{forecast_step}' in f.name][0]\n",
    "print(f\"retrieving file: {file}\")\n",
    "ds = xr.open_dataset(file,engine = 'cfgrib', \\\n",
    "                     backend_kwargs = dict(filter_by_keys = grib_kwargs), \\\n",
    "                     decode_coords = 'all') "
   ]
  },
  {
   "cell_type": "code",
   "execution_count": null,
   "id": "60c013c9",
   "metadata": {},
   "outputs": [],
   "source": [
    "# Useful functions for mapping grib2 files\n",
    "\n",
    "def get_crs(file):\n",
    "    grib = pygrib.open(file)\n",
    "    msg = grib.message(1)\n",
    "    cf_params = CRS(msg.projparams).to_cf()\n",
    "    grib.close()\n",
    "    return cf_params\n",
    "\n",
    "def deg_w_to_e(lon):\n",
    "    return ((lon + 180) % 360) - 180\n",
    "\n",
    "\n",
    "cf_params = get_crs(file)\n",
    "ds = ds.metpy.assign_crs(cf_params).metpy.assign_y_x()\n",
    "ds = ds.assign(longitude = deg_w_to_e(ds.longitude))\n",
    "# Note: here I padded the data with an extra 15 deg of lat/lon to make sure no areas will\n",
    "#       have missing data \n",
    "ds = ds.where(((ds.latitude < north+15) & (ds.latitude > south-15) \\\n",
    "               & (ds.longitude > west-15) & (ds.longitude < east+15)),drop=True)"
   ]
  },
  {
   "cell_type": "code",
   "execution_count": null,
   "id": "8f3c20c4-a2ed-4510-bb26-9a611bd0ecd6",
   "metadata": {
    "tags": []
   },
   "outputs": [],
   "source": [
    "# Here is a nice colormap for plotting radar data\n",
    "def radar_colormap():\n",
    "    reflectivity_colors = [\n",
    "    \"#00ecec\", # 5\n",
    "    \"#01a0f6\", # 10\n",
    "    \"#0000f6\", # 15\n",
    "    \"#00ff00\", # 20\n",
    "    \"#00c800\", # 25\n",
    "    \"#009000\", # 30\n",
    "    \"#ffff00\", # 35\n",
    "    \"#e7c000\", # 40\n",
    "    \"#ff9000\", # 45\n",
    "    \"#ff0000\", # 50\n",
    "    \"#d60000\", # 55\n",
    "    \"#c00000\", # 60\n",
    "    \"#ff00ff\", # 65\n",
    "    \"#9955c9\", # 70\n",
    "    \"#808080\"  # 75\n",
    "    ]\n",
    "    cmap = colors.ListedColormap(reflectivity_colors)\n",
    "    return cmap\n",
    "\n",
    "refl_range = np.arange(5,80,5) \n",
    "cmap= radar_colormap() "
   ]
  },
  {
   "cell_type": "markdown",
   "id": "35ff25a4",
   "metadata": {},
   "source": [
    "Set up the figure and add cartopy features such as coast outlines and state borders"
   ]
  },
  {
   "cell_type": "code",
   "execution_count": null,
   "id": "d48880d7",
   "metadata": {},
   "outputs": [],
   "source": [
    "fig = plt.figure(figsize=(18,12))\n",
    "ax = plt.subplot(1,1,1,projection=ccrs.LambertConformal())\n",
    "ax.set_extent((west,east,south,north))\n",
    "\n",
    "res = '50m'\n",
    "ax.add_feature (cfeature.LAND.with_scale(res),zorder = 2)\n",
    "ax.add_feature (cfeature.OCEAN.with_scale(res),zorder = 2)\n",
    "ax.add_feature(cfeature.COASTLINE.with_scale(res),zorder = 2)\n",
    "ax.add_feature (cfeature.LAKES.with_scale(res), alpha = 0.5,zorder = 2)\n",
    "ax.add_feature (cfeature.STATES.with_scale(res),zorder = 2)"
   ]
  },
  {
   "cell_type": "code",
   "execution_count": null,
   "id": "c22ed579",
   "metadata": {},
   "outputs": [],
   "source": [
    "# Add some cities to the plot here using their lats/lons\n",
    "cities = {'calgary' : [51.045833, -114.0575], 'edmonton' : [53.53444,-113.490278], \\\n",
    "          'red deer' : [52.268056,-113.811111]}\n",
    "\n",
    "for name,coords in cities.items():\n",
    "    \n",
    "    ax.plot(coords[1],coords[0], marker = 'o',color = 'black',\\\n",
    "            markersize = 3,alpha = .8,transform =  ccrs.PlateCarree(),zorder = 2)\n",
    "    \n",
    "    ax.text(coords[1]+.2,coords[0],name.title(),fontsize = 6,alpha = .8, \\\n",
    "            transform = ccrs.PlateCarree(),zorder = 2)"
   ]
  },
  {
   "cell_type": "code",
   "execution_count": null,
   "id": "dade8df8-ab5f-4947-8605-6788c93978c1",
   "metadata": {
    "tags": []
   },
   "outputs": [],
   "source": [
    "cf = ax.contourf(ds.longitude,ds.latitude,ds[varname],extend = 'max', \\\n",
    "                 levels=refl_range,cmap=cmap,transform=ccrs.PlateCarree(),zorder = 3)\n",
    "\n",
    "cbar = plt.colorbar(cf,extend = 'max',ax=ax,ticks = np.arange(5,85,10),\\\n",
    "                    fraction=0.046, pad=0.03,shrink=0.5)\n",
    "\n",
    "cbar.ax.tick_params(labelsize=10)\n",
    "cbar.ax.set_ylabel(\"Reflectivity (dBZ)\",fontsize=10)\n",
    "title = ax.set_title(f\"model: {model_dir.stem}\\nSimulated Reflectivity and Updraft Helicity Contours\\nInit: {init:%Y-%m-%d %H%M}z\\nValid: {valid:%Y-%m-%d %H%M}z\",fontsize=8,loc = 'left')\n",
    "# remove comment below to save the figure\n",
    "# plt.savefig([PATH TO SAVE FOLDER].png,dpi = 600,bbox_inches = 'tight')\n",
    "plt.show()"
   ]
  }
 ],
 "metadata": {
  "kernelspec": {
   "display_name": "Python 3 (ipykernel)",
   "language": "python",
   "name": "python3"
  },
  "language_info": {
   "codemirror_mode": {
    "name": "ipython",
    "version": 3
   },
   "file_extension": ".py",
   "mimetype": "text/x-python",
   "name": "python",
   "nbconvert_exporter": "python",
   "pygments_lexer": "ipython3",
   "version": "3.10.6"
  }
 },
 "nbformat": 4,
 "nbformat_minor": 5
}
