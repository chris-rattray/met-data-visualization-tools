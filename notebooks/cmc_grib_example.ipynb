{
 "cells": [
  {
   "cell_type": "markdown",
   "id": "470fe65f",
   "metadata": {},
   "source": [
    "# Example for retrieving ECCC CMC data "
   ]
  },
  {
   "cell_type": "code",
   "execution_count": null,
   "id": "8aaa4858",
   "metadata": {},
   "outputs": [],
   "source": [
    "import numpy as np\n",
    "from urllib.request import urlopen\n",
    "import pygrib\n",
    "from bs4 import BeautifulSoup\n",
    "import requests\n",
    "from io import BytesIO\n",
    "import urllib\n",
    "import tempfile\n",
    "import os\n",
    "import datetime as dt   \n",
    "import numpy as np\n",
    "import pandas as pd\n",
    "import xarray as xr\n",
    "import gzip\n",
    "import cartopy.crs as ccrs\n",
    "import cartopy.feature as cfeature\n",
    "import matplotlib.pyplot as plt\n",
    "import io"
   ]
  },
  {
   "cell_type": "code",
   "execution_count": null,
   "id": "5b59639a",
   "metadata": {},
   "outputs": [],
   "source": [
    "current_date = dt.datetime.utcnow()\n",
    "init_hour = 12\n",
    "model = 'hrdps'\n",
    "variable = 'tmp'\n",
    "levtype = 'agl'\n",
    "level = 2\n",
    "fc_hour = 18"
   ]
  },
  {
   "cell_type": "code",
   "execution_count": null,
   "id": "b991b707",
   "metadata": {},
   "outputs": [],
   "source": [
    "model_url = f'https://dd.weather.gc.ca/model_{model}/continental/2.5km/\\\n",
    "grib2/{str(init_hour).zfill(2)}/{str(fc_hour).zfill(3)}/'"
   ]
  },
  {
   "cell_type": "code",
   "execution_count": null,
   "id": "63f6f35d-b6f0-49f3-9651-1447218be32b",
   "metadata": {},
   "outputs": [],
   "source": [
    "def get_valid_files(model_url, variable, levtype, level = None):\n",
    "    \n",
    "    \"\"\"\n",
    "    \"\"\"\n",
    "\n",
    "    soups = BeautifulSoup(requests.get(model_url).text,'html.parser')\n",
    "    files = [soup.string for soup in soups.find_all(\"a\") if soup.string.endswith('grib2')]\n",
    "    valid_files = []\n",
    "    for i,file in enumerate(files):\n",
    "        if file.replace(\"-\",\"_\").split(\"_\")[-4].lower() == levtype.lower():\n",
    "            if file.split(\"_\")[3].lower() == variable.lower() and \\\n",
    "                        int(\"\".join([f for f in file.replace('-','_').split(\"_\")[-3] \\\n",
    "                                     if f.isnumeric()])) == level:\n",
    "        \n",
    "                valid_files.append(file)\n",
    "    return valid_files"
   ]
  },
  {
   "cell_type": "code",
   "execution_count": null,
   "id": "7d3adac8-cdef-4eb4-a77c-ec66db5cb8ae",
   "metadata": {},
   "outputs": [],
   "source": [
    "file_urls = get_valid_files(model_url, variable, levtype, level)\n",
    "file_urls"
   ]
  },
  {
   "cell_type": "code",
   "execution_count": null,
   "id": "83444c52-29ac-4ce0-a93e-0f625af5ff4c",
   "metadata": {
    "tags": []
   },
   "outputs": [],
   "source": [
    "url = f\"{model_url}{file_urls[0]}\"\n",
    "data = requests.get(url,stream = True)   \n",
    "tmp = io.BufferedIOBase()\n",
    "tmp = tempfile.NamedTemporaryFile(suffix = '.grb')\n",
    "for chunk in data.iter_content(chunk_size=128):\n",
    "    tmp.write(chunk)\n",
    "tmp.flush()"
   ]
  },
  {
   "cell_type": "code",
   "execution_count": null,
   "id": "af3d67a2-889f-48a8-956c-619458833f19",
   "metadata": {},
   "outputs": [],
   "source": [
    "def get_params(file):\n",
    "    d = {'name' : [] , 'shortName' : [], 'typeOfLevel' : [], 'level' : [], 'paramId' : [], 'units' : []}\n",
    "\n",
    "    with pygrib.open(file) as grbs:\n",
    "        for grb in grbs:\n",
    "        # print(grb.shortName)\n",
    "            d['name'].append(grb.name)\n",
    "            d['shortName'].append(grb.shortName)\n",
    "            d['typeOfLevel'].append(grb.typeOfLevel)\n",
    "            d['level'].append(grb.level)\n",
    "            d['paramId'].append(grb.paramId)\n",
    "            d['units'].append(grb.units)\n",
    "    \n",
    "    df = pd.DataFrame(d)\n",
    "    return df"
   ]
  },
  {
   "cell_type": "code",
   "execution_count": null,
   "id": "c2fa2c31-3748-436a-8d90-56076945abca",
   "metadata": {},
   "outputs": [],
   "source": [
    "grib_kwrgs = get_params(tmp.name).to_dict('records')\n",
    "ds = xr.open_dataset(tmp.name, engine = 'cfgrib', \\\n",
    "                     backend_kwargs = dict(filter_by_keys=grib_kwrgs[0]))#.load()\n",
    "# os.unlink(tmp.name)"
   ]
  },
  {
   "cell_type": "code",
   "execution_count": null,
   "id": "73444315-e554-40ce-beb4-9a25d4a1cc34",
   "metadata": {},
   "outputs": [],
   "source": [
    "plt.figure(figsize=(6, 6))\n",
    "ax = plt.axes(projection=ccrs.PlateCarree())\n",
    "ax.set_global()\n",
    "ds['t2m'].plot.pcolormesh(\n",
    "    ax=ax, transform=ccrs.PlateCarree(), x=\"longitude\", y=\"latitude\", add_colorbar=False\n",
    ")\n",
    "ax.coastlines()\n",
    "ax.add_feature(cfeature.BORDERS, linestyle='-', alpha=1)\n",
    "ax.set_ylim([40, 60]);\n",
    "ax.set_xlim([-105, -85]);"
   ]
  },
  {
   "cell_type": "code",
   "execution_count": null,
   "id": "5c44e139-3ff4-4d84-91bf-eb7e4784e08d",
   "metadata": {},
   "outputs": [],
   "source": [
    "tmp.name"
   ]
  },
  {
   "cell_type": "code",
   "execution_count": null,
   "id": "a47007a6-0a92-4a3e-aba4-65b946afb2fb",
   "metadata": {},
   "outputs": [],
   "source": [
    "tmp.close()"
   ]
  },
  {
   "cell_type": "code",
   "execution_count": null,
   "id": "069fadf8-5dd1-47ee-bbf8-c1aa99fa76dd",
   "metadata": {},
   "outputs": [],
   "source": []
  }
 ],
 "metadata": {
  "kernelspec": {
   "display_name": "Python 3 (ipykernel)",
   "language": "python",
   "name": "python3"
  },
  "language_info": {
   "codemirror_mode": {
    "name": "ipython",
    "version": 3
   },
   "file_extension": ".py",
   "mimetype": "text/x-python",
   "name": "python",
   "nbconvert_exporter": "python",
   "pygments_lexer": "ipython3",
   "version": "3.10.6"
  },
  "toc-autonumbering": true,
  "toc-showcode": true,
  "toc-showmarkdowntxt": true
 },
 "nbformat": 4,
 "nbformat_minor": 5
}
